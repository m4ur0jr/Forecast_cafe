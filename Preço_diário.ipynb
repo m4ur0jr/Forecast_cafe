{
 "cells": [
  {
   "cell_type": "code",
   "execution_count": 1,
   "metadata": {},
   "outputs": [],
   "source": [
    "import pandas as pd\n",
    "import numpy as np\n",
    "import matplotlib.pylab as plt\n",
    "from datetime import datetime\n",
    "from statsmodels.tsa.seasonal import seasonal_decompose\n",
    "from statsmodels.tsa.arima_model import ARIMA\n",
    "from pmdarima import auto_arima"
   ]
  },
  {
   "cell_type": "code",
   "execution_count": 2,
   "metadata": {},
   "outputs": [],
   "source": [
    "base = pd.read_excel('preço_dia.xlsx')"
   ]
  },
  {
   "cell_type": "code",
   "execution_count": 3,
   "metadata": {},
   "outputs": [
    {
     "data": {
      "text/plain": [
       "RangeIndex(start=0, stop=5773, step=1)"
      ]
     },
     "execution_count": 3,
     "metadata": {},
     "output_type": "execute_result"
    }
   ],
   "source": [
    "base.index"
   ]
  },
  {
   "cell_type": "code",
   "execution_count": 4,
   "metadata": {},
   "outputs": [],
   "source": [
    "#ERROR\n",
    "#plt.plot(base)"
   ]
  },
  {
   "cell_type": "code",
   "execution_count": 5,
   "metadata": {},
   "outputs": [
    {
     "data": {
      "text/plain": [
       "RangeIndex(start=0, stop=5773, step=1)"
      ]
     },
     "execution_count": 5,
     "metadata": {},
     "output_type": "execute_result"
    }
   ],
   "source": [
    "base.index"
   ]
  },
  {
   "cell_type": "code",
   "execution_count": 6,
   "metadata": {},
   "outputs": [
    {
     "data": {
      "text/html": [
       "<div>\n",
       "<style scoped>\n",
       "    .dataframe tbody tr th:only-of-type {\n",
       "        vertical-align: middle;\n",
       "    }\n",
       "\n",
       "    .dataframe tbody tr th {\n",
       "        vertical-align: top;\n",
       "    }\n",
       "\n",
       "    .dataframe thead th {\n",
       "        text-align: right;\n",
       "    }\n",
       "</style>\n",
       "<table border=\"1\" class=\"dataframe\">\n",
       "  <thead>\n",
       "    <tr style=\"text-align: right;\">\n",
       "      <th></th>\n",
       "      <th>Data</th>\n",
       "      <th>Preço</th>\n",
       "    </tr>\n",
       "  </thead>\n",
       "  <tbody>\n",
       "    <tr>\n",
       "      <th>0</th>\n",
       "      <td>02/09/1996</td>\n",
       "      <td>121.15</td>\n",
       "    </tr>\n",
       "    <tr>\n",
       "      <th>1</th>\n",
       "      <td>03/09/1996</td>\n",
       "      <td>117.69</td>\n",
       "    </tr>\n",
       "    <tr>\n",
       "      <th>2</th>\n",
       "      <td>04/09/1996</td>\n",
       "      <td>117.44</td>\n",
       "    </tr>\n",
       "    <tr>\n",
       "      <th>3</th>\n",
       "      <td>05/09/1996</td>\n",
       "      <td>116.38</td>\n",
       "    </tr>\n",
       "    <tr>\n",
       "      <th>4</th>\n",
       "      <td>06/09/1996</td>\n",
       "      <td>115.98</td>\n",
       "    </tr>\n",
       "  </tbody>\n",
       "</table>\n",
       "</div>"
      ],
      "text/plain": [
       "         Data   Preço\n",
       "0  02/09/1996  121.15\n",
       "1  03/09/1996  117.69\n",
       "2  04/09/1996  117.44\n",
       "3  05/09/1996  116.38\n",
       "4  06/09/1996  115.98"
      ]
     },
     "execution_count": 6,
     "metadata": {},
     "output_type": "execute_result"
    }
   ],
   "source": [
    "base.head(5)"
   ]
  },
  {
   "cell_type": "code",
   "execution_count": 7,
   "metadata": {},
   "outputs": [
    {
     "name": "stdout",
     "output_type": "stream",
     "text": [
      "Data      object\n",
      "Preço    float64\n",
      "dtype: object\n"
     ]
    }
   ],
   "source": [
    "print(base.dtypes)"
   ]
  },
  {
   "cell_type": "code",
   "execution_count": 8,
   "metadata": {},
   "outputs": [],
   "source": [
    "dateparse = lambda dates: pd.datetime.strptime(dates, '%d/%m/%Y') \n",
    "base = pd.read_excel('preço_dia.xlsx', parse_dates=['Data'],\n",
    "                    index_col= 'Data', date_parser = dateparse)\n",
    "#como no dataset original naõ fiz mudança no Excel para data, aqui no Jupyter eu fiz esta mudança usando a str de data,\n",
    "#porém com o detalhe de modificar a ordem das barras e dos tipos de str - dia/mês/ano. Consultar o livro página 394"
   ]
  },
  {
   "cell_type": "code",
   "execution_count": 9,
   "metadata": {},
   "outputs": [
    {
     "data": {
      "text/plain": [
       "DatetimeIndex(['1996-09-02', '1996-09-03', '1996-09-04', '1996-09-05',\n",
       "               '1996-09-06', '1996-09-09', '1996-09-10', '1996-09-11',\n",
       "               '1996-09-12', '1996-09-13',\n",
       "               ...\n",
       "               '2019-10-25', '2019-10-28', '2019-10-29', '2019-10-30',\n",
       "               '2019-10-31', '2019-11-01', '2019-11-04', '2019-11-05',\n",
       "               '2019-11-06', '2019-11-07'],\n",
       "              dtype='datetime64[ns]', name='Data', length=5773, freq=None)"
      ]
     },
     "execution_count": 9,
     "metadata": {},
     "output_type": "execute_result"
    }
   ],
   "source": [
    "base.index"
   ]
  },
  {
   "cell_type": "code",
   "execution_count": 10,
   "metadata": {},
   "outputs": [],
   "source": [
    "ts = base['Preço']"
   ]
  },
  {
   "cell_type": "code",
   "execution_count": 11,
   "metadata": {},
   "outputs": [
    {
     "name": "stderr",
     "output_type": "stream",
     "text": [
      "C:\\Users\\mauro\\AppData\\Local\\Continuum\\anaconda3\\lib\\site-packages\\pandas\\plotting\\_converter.py:129: FutureWarning: Using an implicitly registered datetime converter for a matplotlib plotting method. The converter was registered by pandas on import. Future versions of pandas will require you to explicitly register matplotlib converters.\n",
      "\n",
      "To register the converters:\n",
      "\t>>> from pandas.plotting import register_matplotlib_converters\n",
      "\t>>> register_matplotlib_converters()\n",
      "  warnings.warn(msg, FutureWarning)\n"
     ]
    },
    {
     "data": {
      "text/plain": [
       "[<matplotlib.lines.Line2D at 0x21dc108efd0>]"
      ]
     },
     "execution_count": 11,
     "metadata": {},
     "output_type": "execute_result"
    },
    {
     "data": {
      "image/png": "[encoded data removed]",
      "text/plain": [
       "<Figure size 432x288 with 1 Axes>"
      ]
     },
     "metadata": {
      "needs_background": "light"
     },
     "output_type": "display_data"
    }
   ],
   "source": [
    "plt.plot(ts)"
   ]
  },
  {
   "cell_type": "code",
   "execution_count": 12,
   "metadata": {},
   "outputs": [
    {
     "data": {
      "text/plain": [
       "[<matplotlib.lines.Line2D at 0x21dc11cd5c0>]"
      ]
     },
     "execution_count": 12,
     "metadata": {},
     "output_type": "execute_result"
    },
    {
     "data": {
      "image/png": "[encoded data removed]",
      "text/plain": [
       "<Figure size 432x288 with 1 Axes>"
      ]
     },
     "metadata": {
      "needs_background": "light"
     },
     "output_type": "display_data"
    }
   ],
   "source": [
    "ts_ano = ts.resample('A').sum()\n",
    "plt.plot(ts_ano)"
   ]
  },
  {
   "cell_type": "code",
   "execution_count": 13,
   "metadata": {},
   "outputs": [
    {
     "data": {
      "text/plain": [
       "[<matplotlib.lines.Line2D at 0x21dc0f3ddd8>]"
      ]
     },
     "execution_count": 13,
     "metadata": {},
     "output_type": "execute_result"
    },
    {
     "data": {
      "image/png": "[encoded data removed]",
      "text/plain": [
       "<Figure size 432x288 with 1 Axes>"
      ]
     },
     "metadata": {
      "needs_background": "light"
     },
     "output_type": "display_data"
    }
   ],
   "source": [
    "ts_mes = ts.resample('M').sum()\n",
    "plt.plot(ts_mes)"
   ]
  },
  {
   "cell_type": "code",
   "execution_count": 14,
   "metadata": {},
   "outputs": [],
   "source": [
    "#ERROR\n",
    "#index = pd.PeriodIndex('Preço', freq='Q-JAN')"
   ]
  },
  {
   "cell_type": "code",
   "execution_count": 15,
   "metadata": {},
   "outputs": [
    {
     "data": {
      "text/plain": [
       "[<matplotlib.lines.Line2D at 0x21dc112c4a8>]"
      ]
     },
     "execution_count": 15,
     "metadata": {},
     "output_type": "execute_result"
    },
    {
     "data": {
      "image/png": "[encoded data removed]",
      "text/plain": [
       "<Figure size 432x288 with 1 Axes>"
      ]
     },
     "metadata": {
      "needs_background": "light"
     },
     "output_type": "display_data"
    }
   ],
   "source": [
    "ts_mes2 = ts.groupby([lambda x: x.month]).sum()\n",
    "plt.plot(ts_mes2)"
   ]
  },
  {
   "cell_type": "code",
   "execution_count": 16,
   "metadata": {},
   "outputs": [],
   "source": [
    "#Fazendo a decomposição da série temporal\n",
    "#ERROR\n",
    "#decomposicao = seasonal_decompose(ts)"
   ]
  },
  {
   "cell_type": "code",
   "execution_count": 17,
   "metadata": {},
   "outputs": [
    {
     "data": {
      "text/plain": [
       "[<matplotlib.lines.Line2D at 0x21dc10f6550>]"
      ]
     },
     "execution_count": 17,
     "metadata": {},
     "output_type": "execute_result"
    },
    {
     "data": {
      "image/png": "[encoded data removed]",
      "text/plain": [
       "<Figure size 432x288 with 1 Axes>"
      ]
     },
     "metadata": {
      "needs_background": "light"
     },
     "output_type": "display_data"
    }
   ],
   "source": [
    "plt.plot(ts)"
   ]
  },
  {
   "cell_type": "code",
   "execution_count": 18,
   "metadata": {},
   "outputs": [],
   "source": [
    "#ERROR\n",
    "#decomposicao = seasonal_decompose(ts)"
   ]
  },
  {
   "cell_type": "code",
   "execution_count": 19,
   "metadata": {},
   "outputs": [],
   "source": [
    "#acho que não foi possível e decomposição devido a série ser diária! \n",
    "#estudar mais sobre isso"
   ]
  },
  {
   "cell_type": "code",
   "execution_count": 20,
   "metadata": {},
   "outputs": [
    {
     "name": "stdout",
     "output_type": "stream",
     "text": [
      "Fit ARIMA: order=(2, 1, 2); AIC=28920.649, BIC=28960.614, Fit time=1.970 seconds\n",
      "Fit ARIMA: order=(0, 1, 0); AIC=28965.408, BIC=28978.729, Fit time=0.002 seconds\n",
      "Fit ARIMA: order=(1, 1, 0); AIC=28964.294, BIC=28984.277, Fit time=0.079 seconds\n",
      "Fit ARIMA: order=(0, 1, 1); AIC=28963.843, BIC=28983.826, Fit time=0.036 seconds\n",
      "Fit ARIMA: order=(1, 1, 2); AIC=28933.959, BIC=28967.263, Fit time=0.698 seconds\n",
      "Fit ARIMA: order=(3, 1, 2); AIC=28922.584, BIC=28969.209, Fit time=1.597 seconds\n",
      "Fit ARIMA: order=(2, 1, 1); AIC=28930.995, BIC=28964.299, Fit time=0.709 seconds\n",
      "Fit ARIMA: order=(2, 1, 3); AIC=28922.581, BIC=28969.206, Fit time=2.406 seconds\n",
      "Fit ARIMA: order=(1, 1, 1); AIC=28961.982, BIC=28988.625, Fit time=2.196 seconds\n"
     ]
    },
    {
     "name": "stderr",
     "output_type": "stream",
     "text": [
      "C:\\Users\\mauro\\AppData\\Local\\Continuum\\anaconda3\\lib\\site-packages\\pmdarima\\arima\\_auto_solvers.py:211: ModelFitWarning: Unable to fit ARIMA for order=(3, 1, 3); data is likely non-stationary. (if you do not want to see these warnings, run with error_action=\"ignore\")\n",
      "  ModelFitWarning)\n"
     ]
    },
    {
     "name": "stdout",
     "output_type": "stream",
     "text": [
      "Fit ARIMA: order=(3, 1, 3); AIC=nan, BIC=nan, Fit time=nan seconds\n",
      "Total fit time: 10.396 seconds\n"
     ]
    },
    {
     "data": {
      "text/html": [
       "<table class=\"simpletable\">\n",
       "<caption>ARIMA Model Results</caption>\n",
       "<tr>\n",
       "  <th>Dep. Variable:</th>        <td>D.y</td>       <th>  No. Observations:  </th>    <td>5772</td>   \n",
       "</tr>\n",
       "<tr>\n",
       "  <th>Model:</th>          <td>ARIMA(2, 1, 2)</td>  <th>  Log Likelihood     </th> <td>-14454.325</td>\n",
       "</tr>\n",
       "<tr>\n",
       "  <th>Method:</th>             <td>css-mle</td>     <th>  S.D. of innovations</th>    <td>2.960</td>  \n",
       "</tr>\n",
       "<tr>\n",
       "  <th>Date:</th>          <td>Tue, 19 Nov 2019</td> <th>  AIC                </th>  <td>28920.649</td>\n",
       "</tr>\n",
       "<tr>\n",
       "  <th>Time:</th>              <td>14:36:26</td>     <th>  BIC                </th>  <td>28960.614</td>\n",
       "</tr>\n",
       "<tr>\n",
       "  <th>Sample:</th>                <td>1</td>        <th>  HQIC               </th>  <td>28934.555</td>\n",
       "</tr>\n",
       "<tr>\n",
       "  <th></th>                       <td> </td>        <th>                     </th>      <td> </td>    \n",
       "</tr>\n",
       "</table>\n",
       "<table class=\"simpletable\">\n",
       "<tr>\n",
       "      <td></td>         <th>coef</th>     <th>std err</th>      <th>z</th>      <th>P>|z|</th>  <th>[0.025</th>    <th>0.975]</th>  \n",
       "</tr>\n",
       "<tr>\n",
       "  <th>const</th>     <td>   -0.0013</td> <td>    0.038</td> <td>   -0.036</td> <td> 0.971</td> <td>   -0.075</td> <td>    0.072</td>\n",
       "</tr>\n",
       "<tr>\n",
       "  <th>ar.L1.D.y</th> <td>   -0.7958</td> <td>    0.093</td> <td>   -8.580</td> <td> 0.000</td> <td>   -0.978</td> <td>   -0.614</td>\n",
       "</tr>\n",
       "<tr>\n",
       "  <th>ar.L2.D.y</th> <td>   -0.6270</td> <td>    0.142</td> <td>   -4.421</td> <td> 0.000</td> <td>   -0.905</td> <td>   -0.349</td>\n",
       "</tr>\n",
       "<tr>\n",
       "  <th>ma.L1.D.y</th> <td>    0.7773</td> <td>    0.098</td> <td>    7.942</td> <td> 0.000</td> <td>    0.586</td> <td>    0.969</td>\n",
       "</tr>\n",
       "<tr>\n",
       "  <th>ma.L2.D.y</th> <td>    0.5549</td> <td>    0.152</td> <td>    3.655</td> <td> 0.000</td> <td>    0.257</td> <td>    0.853</td>\n",
       "</tr>\n",
       "</table>\n",
       "<table class=\"simpletable\">\n",
       "<caption>Roots</caption>\n",
       "<tr>\n",
       "    <td></td>   <th>            Real</th>  <th>         Imaginary</th> <th>         Modulus</th>  <th>        Frequency</th>\n",
       "</tr>\n",
       "<tr>\n",
       "  <th>AR.1</th> <td>          -0.6346</td> <td>          -1.0919j</td> <td>           1.2629</td> <td>          -0.3338</td>\n",
       "</tr>\n",
       "<tr>\n",
       "  <th>AR.2</th> <td>          -0.6346</td> <td>          +1.0919j</td> <td>           1.2629</td> <td>           0.3338</td>\n",
       "</tr>\n",
       "<tr>\n",
       "  <th>MA.1</th> <td>          -0.7004</td> <td>          -1.1452j</td> <td>           1.3424</td> <td>          -0.3374</td>\n",
       "</tr>\n",
       "<tr>\n",
       "  <th>MA.2</th> <td>          -0.7004</td> <td>          +1.1452j</td> <td>           1.3424</td> <td>           0.3374</td>\n",
       "</tr>\n",
       "</table>"
      ],
      "text/plain": [
       "<class 'statsmodels.iolib.summary.Summary'>\n",
       "\"\"\"\n",
       "                             ARIMA Model Results                              \n",
       "==============================================================================\n",
       "Dep. Variable:                    D.y   No. Observations:                 5772\n",
       "Model:                 ARIMA(2, 1, 2)   Log Likelihood              -14454.325\n",
       "Method:                       css-mle   S.D. of innovations              2.960\n",
       "Date:                Tue, 19 Nov 2019   AIC                          28920.649\n",
       "Time:                        14:36:26   BIC                          28960.614\n",
       "Sample:                             1   HQIC                         28934.555\n",
       "                                                                              \n",
       "==============================================================================\n",
       "                 coef    std err          z      P>|z|      [0.025      0.975]\n",
       "------------------------------------------------------------------------------\n",
       "const         -0.0013      0.038     -0.036      0.971      -0.075       0.072\n",
       "ar.L1.D.y     -0.7958      0.093     -8.580      0.000      -0.978      -0.614\n",
       "ar.L2.D.y     -0.6270      0.142     -4.421      0.000      -0.905      -0.349\n",
       "ma.L1.D.y      0.7773      0.098      7.942      0.000       0.586       0.969\n",
       "ma.L2.D.y      0.5549      0.152      3.655      0.000       0.257       0.853\n",
       "                                    Roots                                    \n",
       "=============================================================================\n",
       "                  Real          Imaginary           Modulus         Frequency\n",
       "-----------------------------------------------------------------------------\n",
       "AR.1           -0.6346           -1.0919j            1.2629           -0.3338\n",
       "AR.2           -0.6346           +1.0919j            1.2629            0.3338\n",
       "MA.1           -0.7004           -1.1452j            1.3424           -0.3374\n",
       "MA.2           -0.7004           +1.1452j            1.3424            0.3374\n",
       "-----------------------------------------------------------------------------\n",
       "\"\"\""
      ]
     },
     "execution_count": 20,
     "metadata": {},
     "output_type": "execute_result"
    }
   ],
   "source": [
    "#Rodando a previsão (até aqui usei o passo a passo da Udemy)\n",
    "modelo_auto = auto_arima(ts, m = 15, seasonal = False, trace = True)\n",
    "modelo_auto.summary()"
   ]
  },
  {
   "cell_type": "code",
   "execution_count": 21,
   "metadata": {},
   "outputs": [
    {
     "name": "stderr",
     "output_type": "stream",
     "text": [
      "C:\\Users\\mauro\\AppData\\Local\\Continuum\\anaconda3\\lib\\site-packages\\statsmodels\\tsa\\base\\tsa_model.py:219: ValueWarning: A date index has been provided, but it has no associated frequency information and so will be ignored when e.g. forecasting.\n",
      "  ' ignored when e.g. forecasting.', ValueWarning)\n",
      "C:\\Users\\mauro\\AppData\\Local\\Continuum\\anaconda3\\lib\\site-packages\\statsmodels\\tsa\\base\\tsa_model.py:219: ValueWarning: A date index has been provided, but it has no associated frequency information and so will be ignored when e.g. forecasting.\n",
      "  ' ignored when e.g. forecasting.', ValueWarning)\n"
     ]
    }
   ],
   "source": [
    "modelo = ARIMA(ts, order=(2, 1, 2))\n",
    "modelo_treinado = modelo.fit()"
   ]
  },
  {
   "cell_type": "code",
   "execution_count": 22,
   "metadata": {},
   "outputs": [
    {
     "data": {
      "text/html": [
       "<table class=\"simpletable\">\n",
       "<caption>ARIMA Model Results</caption>\n",
       "<tr>\n",
       "  <th>Dep. Variable:</th>      <td>D.Preço</td>     <th>  No. Observations:  </th>    <td>5772</td>   \n",
       "</tr>\n",
       "<tr>\n",
       "  <th>Model:</th>          <td>ARIMA(2, 1, 2)</td>  <th>  Log Likelihood     </th> <td>-14454.325</td>\n",
       "</tr>\n",
       "<tr>\n",
       "  <th>Method:</th>             <td>css-mle</td>     <th>  S.D. of innovations</th>    <td>2.960</td>  \n",
       "</tr>\n",
       "<tr>\n",
       "  <th>Date:</th>          <td>Tue, 19 Nov 2019</td> <th>  AIC                </th>  <td>28920.649</td>\n",
       "</tr>\n",
       "<tr>\n",
       "  <th>Time:</th>              <td>14:36:28</td>     <th>  BIC                </th>  <td>28960.614</td>\n",
       "</tr>\n",
       "<tr>\n",
       "  <th>Sample:</th>                <td>1</td>        <th>  HQIC               </th>  <td>28934.555</td>\n",
       "</tr>\n",
       "<tr>\n",
       "  <th></th>                       <td> </td>        <th>                     </th>      <td> </td>    \n",
       "</tr>\n",
       "</table>\n",
       "<table class=\"simpletable\">\n",
       "<tr>\n",
       "        <td></td>           <th>coef</th>     <th>std err</th>      <th>z</th>      <th>P>|z|</th>  <th>[0.025</th>    <th>0.975]</th>  \n",
       "</tr>\n",
       "<tr>\n",
       "  <th>const</th>         <td>   -0.0013</td> <td>    0.038</td> <td>   -0.036</td> <td> 0.971</td> <td>   -0.075</td> <td>    0.072</td>\n",
       "</tr>\n",
       "<tr>\n",
       "  <th>ar.L1.D.Preço</th> <td>   -0.7958</td> <td>    0.093</td> <td>   -8.580</td> <td> 0.000</td> <td>   -0.978</td> <td>   -0.614</td>\n",
       "</tr>\n",
       "<tr>\n",
       "  <th>ar.L2.D.Preço</th> <td>   -0.6270</td> <td>    0.142</td> <td>   -4.421</td> <td> 0.000</td> <td>   -0.905</td> <td>   -0.349</td>\n",
       "</tr>\n",
       "<tr>\n",
       "  <th>ma.L1.D.Preço</th> <td>    0.7773</td> <td>    0.098</td> <td>    7.942</td> <td> 0.000</td> <td>    0.586</td> <td>    0.969</td>\n",
       "</tr>\n",
       "<tr>\n",
       "  <th>ma.L2.D.Preço</th> <td>    0.5549</td> <td>    0.152</td> <td>    3.655</td> <td> 0.000</td> <td>    0.257</td> <td>    0.853</td>\n",
       "</tr>\n",
       "</table>\n",
       "<table class=\"simpletable\">\n",
       "<caption>Roots</caption>\n",
       "<tr>\n",
       "    <td></td>   <th>            Real</th>  <th>         Imaginary</th> <th>         Modulus</th>  <th>        Frequency</th>\n",
       "</tr>\n",
       "<tr>\n",
       "  <th>AR.1</th> <td>          -0.6346</td> <td>          -1.0919j</td> <td>           1.2629</td> <td>          -0.3338</td>\n",
       "</tr>\n",
       "<tr>\n",
       "  <th>AR.2</th> <td>          -0.6346</td> <td>          +1.0919j</td> <td>           1.2629</td> <td>           0.3338</td>\n",
       "</tr>\n",
       "<tr>\n",
       "  <th>MA.1</th> <td>          -0.7004</td> <td>          -1.1452j</td> <td>           1.3424</td> <td>          -0.3374</td>\n",
       "</tr>\n",
       "<tr>\n",
       "  <th>MA.2</th> <td>          -0.7004</td> <td>          +1.1452j</td> <td>           1.3424</td> <td>           0.3374</td>\n",
       "</tr>\n",
       "</table>"
      ],
      "text/plain": [
       "<class 'statsmodels.iolib.summary.Summary'>\n",
       "\"\"\"\n",
       "                             ARIMA Model Results                              \n",
       "==============================================================================\n",
       "Dep. Variable:                D.Preço   No. Observations:                 5772\n",
       "Model:                 ARIMA(2, 1, 2)   Log Likelihood              -14454.325\n",
       "Method:                       css-mle   S.D. of innovations              2.960\n",
       "Date:                Tue, 19 Nov 2019   AIC                          28920.649\n",
       "Time:                        14:36:28   BIC                          28960.614\n",
       "Sample:                             1   HQIC                         28934.555\n",
       "                                                                              \n",
       "=================================================================================\n",
       "                    coef    std err          z      P>|z|      [0.025      0.975]\n",
       "---------------------------------------------------------------------------------\n",
       "const            -0.0013      0.038     -0.036      0.971      -0.075       0.072\n",
       "ar.L1.D.Preço    -0.7958      0.093     -8.580      0.000      -0.978      -0.614\n",
       "ar.L2.D.Preço    -0.6270      0.142     -4.421      0.000      -0.905      -0.349\n",
       "ma.L1.D.Preço     0.7773      0.098      7.942      0.000       0.586       0.969\n",
       "ma.L2.D.Preço     0.5549      0.152      3.655      0.000       0.257       0.853\n",
       "                                    Roots                                    \n",
       "=============================================================================\n",
       "                  Real          Imaginary           Modulus         Frequency\n",
       "-----------------------------------------------------------------------------\n",
       "AR.1           -0.6346           -1.0919j            1.2629           -0.3338\n",
       "AR.2           -0.6346           +1.0919j            1.2629            0.3338\n",
       "MA.1           -0.7004           -1.1452j            1.3424           -0.3374\n",
       "MA.2           -0.7004           +1.1452j            1.3424            0.3374\n",
       "-----------------------------------------------------------------------------\n",
       "\"\"\""
      ]
     },
     "execution_count": 22,
     "metadata": {},
     "output_type": "execute_result"
    }
   ],
   "source": [
    "modelo_treinado.summary()"
   ]
  },
  {
   "cell_type": "code",
   "execution_count": 23,
   "metadata": {},
   "outputs": [
    {
     "name": "stderr",
     "output_type": "stream",
     "text": [
      "C:\\Users\\mauro\\AppData\\Local\\Continuum\\anaconda3\\lib\\site-packages\\statsmodels\\tsa\\base\\tsa_model.py:219: ValueWarning: A date index has been provided, but it has no associated frequency information and so will be ignored when e.g. forecasting.\n",
      "  ' ignored when e.g. forecasting.', ValueWarning)\n",
      "C:\\Users\\mauro\\AppData\\Local\\Continuum\\anaconda3\\lib\\site-packages\\statsmodels\\tsa\\base\\tsa_model.py:219: ValueWarning: A date index has been provided, but it has no associated frequency information and so will be ignored when e.g. forecasting.\n",
      "  ' ignored when e.g. forecasting.', ValueWarning)\n"
     ]
    }
   ],
   "source": [
    "modelo = ARIMA(ts, order=(2, 1, 3))\n",
    "modelo_treinado = modelo.fit()"
   ]
  },
  {
   "cell_type": "code",
   "execution_count": 24,
   "metadata": {},
   "outputs": [
    {
     "data": {
      "text/html": [
       "<table class=\"simpletable\">\n",
       "<caption>ARIMA Model Results</caption>\n",
       "<tr>\n",
       "  <th>Dep. Variable:</th>      <td>D.Preço</td>     <th>  No. Observations:  </th>    <td>5772</td>   \n",
       "</tr>\n",
       "<tr>\n",
       "  <th>Model:</th>          <td>ARIMA(2, 1, 3)</td>  <th>  Log Likelihood     </th> <td>-14454.290</td>\n",
       "</tr>\n",
       "<tr>\n",
       "  <th>Method:</th>             <td>css-mle</td>     <th>  S.D. of innovations</th>    <td>2.960</td>  \n",
       "</tr>\n",
       "<tr>\n",
       "  <th>Date:</th>          <td>Tue, 19 Nov 2019</td> <th>  AIC                </th>  <td>28922.581</td>\n",
       "</tr>\n",
       "<tr>\n",
       "  <th>Time:</th>              <td>14:36:31</td>     <th>  BIC                </th>  <td>28969.206</td>\n",
       "</tr>\n",
       "<tr>\n",
       "  <th>Sample:</th>                <td>1</td>        <th>  HQIC               </th>  <td>28938.804</td>\n",
       "</tr>\n",
       "<tr>\n",
       "  <th></th>                       <td> </td>        <th>                     </th>      <td> </td>    \n",
       "</tr>\n",
       "</table>\n",
       "<table class=\"simpletable\">\n",
       "<tr>\n",
       "        <td></td>           <th>coef</th>     <th>std err</th>      <th>z</th>      <th>P>|z|</th>  <th>[0.025</th>    <th>0.975]</th>  \n",
       "</tr>\n",
       "<tr>\n",
       "  <th>const</th>         <td>   -0.0013</td> <td>    0.037</td> <td>   -0.036</td> <td> 0.971</td> <td>   -0.075</td> <td>    0.072</td>\n",
       "</tr>\n",
       "<tr>\n",
       "  <th>ar.L1.D.Preço</th> <td>   -0.8127</td> <td>    0.106</td> <td>   -7.680</td> <td> 0.000</td> <td>   -1.020</td> <td>   -0.605</td>\n",
       "</tr>\n",
       "<tr>\n",
       "  <th>ar.L2.D.Preço</th> <td>   -0.6345</td> <td>    0.145</td> <td>   -4.373</td> <td> 0.000</td> <td>   -0.919</td> <td>   -0.350</td>\n",
       "</tr>\n",
       "<tr>\n",
       "  <th>ma.L1.D.Preço</th> <td>    0.7927</td> <td>    0.106</td> <td>    7.444</td> <td> 0.000</td> <td>    0.584</td> <td>    1.001</td>\n",
       "</tr>\n",
       "<tr>\n",
       "  <th>ma.L2.D.Preço</th> <td>    0.5599</td> <td>    0.154</td> <td>    3.642</td> <td> 0.000</td> <td>    0.259</td> <td>    0.861</td>\n",
       "</tr>\n",
       "<tr>\n",
       "  <th>ma.L3.D.Preço</th> <td>   -0.0045</td> <td>    0.017</td> <td>   -0.263</td> <td> 0.792</td> <td>   -0.038</td> <td>    0.029</td>\n",
       "</tr>\n",
       "</table>\n",
       "<table class=\"simpletable\">\n",
       "<caption>Roots</caption>\n",
       "<tr>\n",
       "    <td></td>   <th>            Real</th>  <th>         Imaginary</th> <th>         Modulus</th>  <th>        Frequency</th>\n",
       "</tr>\n",
       "<tr>\n",
       "  <th>AR.1</th> <td>          -0.6404</td> <td>          -1.0797j</td> <td>           1.2554</td> <td>          -0.3352</td>\n",
       "</tr>\n",
       "<tr>\n",
       "  <th>AR.2</th> <td>          -0.6404</td> <td>          +1.0797j</td> <td>           1.2554</td> <td>           0.3352</td>\n",
       "</tr>\n",
       "<tr>\n",
       "  <th>MA.1</th> <td>          -0.7070</td> <td>          -1.1253j</td> <td>           1.3289</td> <td>          -0.3393</td>\n",
       "</tr>\n",
       "<tr>\n",
       "  <th>MA.2</th> <td>          -0.7070</td> <td>          +1.1253j</td> <td>           1.3289</td> <td>           0.3393</td>\n",
       "</tr>\n",
       "<tr>\n",
       "  <th>MA.3</th> <td>         126.4588</td> <td>          -0.0000j</td> <td>         126.4588</td> <td>          -0.0000</td>\n",
       "</tr>\n",
       "</table>"
      ],
      "text/plain": [
       "<class 'statsmodels.iolib.summary.Summary'>\n",
       "\"\"\"\n",
       "                             ARIMA Model Results                              \n",
       "==============================================================================\n",
       "Dep. Variable:                D.Preço   No. Observations:                 5772\n",
       "Model:                 ARIMA(2, 1, 3)   Log Likelihood              -14454.290\n",
       "Method:                       css-mle   S.D. of innovations              2.960\n",
       "Date:                Tue, 19 Nov 2019   AIC                          28922.581\n",
       "Time:                        14:36:31   BIC                          28969.206\n",
       "Sample:                             1   HQIC                         28938.804\n",
       "                                                                              \n",
       "=================================================================================\n",
       "                    coef    std err          z      P>|z|      [0.025      0.975]\n",
       "---------------------------------------------------------------------------------\n",
       "const            -0.0013      0.037     -0.036      0.971      -0.075       0.072\n",
       "ar.L1.D.Preço    -0.8127      0.106     -7.680      0.000      -1.020      -0.605\n",
       "ar.L2.D.Preço    -0.6345      0.145     -4.373      0.000      -0.919      -0.350\n",
       "ma.L1.D.Preço     0.7927      0.106      7.444      0.000       0.584       1.001\n",
       "ma.L2.D.Preço     0.5599      0.154      3.642      0.000       0.259       0.861\n",
       "ma.L3.D.Preço    -0.0045      0.017     -0.263      0.792      -0.038       0.029\n",
       "                                    Roots                                    \n",
       "=============================================================================\n",
       "                  Real          Imaginary           Modulus         Frequency\n",
       "-----------------------------------------------------------------------------\n",
       "AR.1           -0.6404           -1.0797j            1.2554           -0.3352\n",
       "AR.2           -0.6404           +1.0797j            1.2554            0.3352\n",
       "MA.1           -0.7070           -1.1253j            1.3289           -0.3393\n",
       "MA.2           -0.7070           +1.1253j            1.3289            0.3393\n",
       "MA.3          126.4588           -0.0000j          126.4588           -0.0000\n",
       "-----------------------------------------------------------------------------\n",
       "\"\"\""
      ]
     },
     "execution_count": 24,
     "metadata": {},
     "output_type": "execute_result"
    }
   ],
   "source": [
    "modelo_treinado.summary()"
   ]
  },
  {
   "cell_type": "code",
   "execution_count": 25,
   "metadata": {},
   "outputs": [
    {
     "name": "stderr",
     "output_type": "stream",
     "text": [
      "C:\\Users\\mauro\\AppData\\Local\\Continuum\\anaconda3\\lib\\site-packages\\statsmodels\\tsa\\base\\tsa_model.py:219: ValueWarning: A date index has been provided, but it has no associated frequency information and so will be ignored when e.g. forecasting.\n",
      "  ' ignored when e.g. forecasting.', ValueWarning)\n",
      "C:\\Users\\mauro\\AppData\\Local\\Continuum\\anaconda3\\lib\\site-packages\\statsmodels\\tsa\\base\\tsa_model.py:219: ValueWarning: A date index has been provided, but it has no associated frequency information and so will be ignored when e.g. forecasting.\n",
      "  ' ignored when e.g. forecasting.', ValueWarning)\n"
     ]
    },
    {
     "data": {
      "text/html": [
       "<table class=\"simpletable\">\n",
       "<caption>ARIMA Model Results</caption>\n",
       "<tr>\n",
       "  <th>Dep. Variable:</th>     <td>D2.Preço</td>     <th>  No. Observations:  </th>    <td>5771</td>   \n",
       "</tr>\n",
       "<tr>\n",
       "  <th>Model:</th>          <td>ARIMA(2, 2, 3)</td>  <th>  Log Likelihood     </th> <td>-14457.590</td>\n",
       "</tr>\n",
       "<tr>\n",
       "  <th>Method:</th>             <td>css-mle</td>     <th>  S.D. of innovations</th>    <td>2.961</td>  \n",
       "</tr>\n",
       "<tr>\n",
       "  <th>Date:</th>          <td>Tue, 19 Nov 2019</td> <th>  AIC                </th>  <td>28929.181</td>\n",
       "</tr>\n",
       "<tr>\n",
       "  <th>Time:</th>              <td>14:36:40</td>     <th>  BIC                </th>  <td>28975.805</td>\n",
       "</tr>\n",
       "<tr>\n",
       "  <th>Sample:</th>                <td>2</td>        <th>  HQIC               </th>  <td>28945.404</td>\n",
       "</tr>\n",
       "<tr>\n",
       "  <th></th>                       <td> </td>        <th>                     </th>      <td> </td>    \n",
       "</tr>\n",
       "</table>\n",
       "<table class=\"simpletable\">\n",
       "<tr>\n",
       "         <td></td>           <th>coef</th>     <th>std err</th>      <th>z</th>      <th>P>|z|</th>  <th>[0.025</th>    <th>0.975]</th>  \n",
       "</tr>\n",
       "<tr>\n",
       "  <th>const</th>          <td>-5.989e-06</td> <td> 3.61e-05</td> <td>   -0.166</td> <td> 0.868</td> <td>-7.67e-05</td> <td> 6.48e-05</td>\n",
       "</tr>\n",
       "<tr>\n",
       "  <th>ar.L1.D2.Preço</th> <td>   -0.8595</td> <td>    0.068</td> <td>  -12.618</td> <td> 0.000</td> <td>   -0.993</td> <td>   -0.726</td>\n",
       "</tr>\n",
       "<tr>\n",
       "  <th>ar.L2.D2.Preço</th> <td>   -0.7675</td> <td>    0.110</td> <td>   -6.959</td> <td> 0.000</td> <td>   -0.984</td> <td>   -0.551</td>\n",
       "</tr>\n",
       "<tr>\n",
       "  <th>ma.L1.D2.Preço</th> <td>   -0.1553</td> <td>    0.074</td> <td>   -2.101</td> <td> 0.036</td> <td>   -0.300</td> <td>   -0.010</td>\n",
       "</tr>\n",
       "<tr>\n",
       "  <th>ma.L2.D2.Preço</th> <td>   -0.1350</td> <td>    0.087</td> <td>   -1.559</td> <td> 0.119</td> <td>   -0.305</td> <td>    0.035</td>\n",
       "</tr>\n",
       "<tr>\n",
       "  <th>ma.L3.D2.Preço</th> <td>   -0.7081</td> <td>    0.123</td> <td>   -5.776</td> <td> 0.000</td> <td>   -0.948</td> <td>   -0.468</td>\n",
       "</tr>\n",
       "</table>\n",
       "<table class=\"simpletable\">\n",
       "<caption>Roots</caption>\n",
       "<tr>\n",
       "    <td></td>   <th>            Real</th>  <th>         Imaginary</th> <th>         Modulus</th>  <th>        Frequency</th>\n",
       "</tr>\n",
       "<tr>\n",
       "  <th>AR.1</th> <td>          -0.5599</td> <td>          -0.9947j</td> <td>           1.1414</td> <td>          -0.3316</td>\n",
       "</tr>\n",
       "<tr>\n",
       "  <th>AR.2</th> <td>          -0.5599</td> <td>          +0.9947j</td> <td>           1.1414</td> <td>           0.3316</td>\n",
       "</tr>\n",
       "<tr>\n",
       "  <th>MA.1</th> <td>           1.0007</td> <td>          -0.0000j</td> <td>           1.0007</td> <td>          -0.0000</td>\n",
       "</tr>\n",
       "<tr>\n",
       "  <th>MA.2</th> <td>          -0.5956</td> <td>          -1.0279j</td> <td>           1.1880</td> <td>          -0.3336</td>\n",
       "</tr>\n",
       "<tr>\n",
       "  <th>MA.3</th> <td>          -0.5956</td> <td>          +1.0279j</td> <td>           1.1880</td> <td>           0.3336</td>\n",
       "</tr>\n",
       "</table>"
      ],
      "text/plain": [
       "<class 'statsmodels.iolib.summary.Summary'>\n",
       "\"\"\"\n",
       "                             ARIMA Model Results                              \n",
       "==============================================================================\n",
       "Dep. Variable:               D2.Preço   No. Observations:                 5771\n",
       "Model:                 ARIMA(2, 2, 3)   Log Likelihood              -14457.590\n",
       "Method:                       css-mle   S.D. of innovations              2.961\n",
       "Date:                Tue, 19 Nov 2019   AIC                          28929.181\n",
       "Time:                        14:36:40   BIC                          28975.805\n",
       "Sample:                             2   HQIC                         28945.404\n",
       "                                                                              \n",
       "==================================================================================\n",
       "                     coef    std err          z      P>|z|      [0.025      0.975]\n",
       "----------------------------------------------------------------------------------\n",
       "const          -5.989e-06   3.61e-05     -0.166      0.868   -7.67e-05    6.48e-05\n",
       "ar.L1.D2.Preço    -0.8595      0.068    -12.618      0.000      -0.993      -0.726\n",
       "ar.L2.D2.Preço    -0.7675      0.110     -6.959      0.000      -0.984      -0.551\n",
       "ma.L1.D2.Preço    -0.1553      0.074     -2.101      0.036      -0.300      -0.010\n",
       "ma.L2.D2.Preço    -0.1350      0.087     -1.559      0.119      -0.305       0.035\n",
       "ma.L3.D2.Preço    -0.7081      0.123     -5.776      0.000      -0.948      -0.468\n",
       "                                    Roots                                    \n",
       "=============================================================================\n",
       "                  Real          Imaginary           Modulus         Frequency\n",
       "-----------------------------------------------------------------------------\n",
       "AR.1           -0.5599           -0.9947j            1.1414           -0.3316\n",
       "AR.2           -0.5599           +0.9947j            1.1414            0.3316\n",
       "MA.1            1.0007           -0.0000j            1.0007           -0.0000\n",
       "MA.2           -0.5956           -1.0279j            1.1880           -0.3336\n",
       "MA.3           -0.5956           +1.0279j            1.1880            0.3336\n",
       "-----------------------------------------------------------------------------\n",
       "\"\"\""
      ]
     },
     "execution_count": 25,
     "metadata": {},
     "output_type": "execute_result"
    }
   ],
   "source": [
    "modelo = ARIMA(ts, order=(2, 2, 3))\n",
    "modelo_treinado = modelo.fit()\n",
    "modelo_treinado.summary()"
   ]
  },
  {
   "cell_type": "code",
   "execution_count": 26,
   "metadata": {},
   "outputs": [
    {
     "name": "stderr",
     "output_type": "stream",
     "text": [
      "C:\\Users\\mauro\\AppData\\Local\\Continuum\\anaconda3\\lib\\site-packages\\statsmodels\\tsa\\base\\tsa_model.py:219: ValueWarning: A date index has been provided, but it has no associated frequency information and so will be ignored when e.g. forecasting.\n",
      "  ' ignored when e.g. forecasting.', ValueWarning)\n",
      "C:\\Users\\mauro\\AppData\\Local\\Continuum\\anaconda3\\lib\\site-packages\\statsmodels\\tsa\\base\\tsa_model.py:219: ValueWarning: A date index has been provided, but it has no associated frequency information and so will be ignored when e.g. forecasting.\n",
      "  ' ignored when e.g. forecasting.', ValueWarning)\n"
     ]
    },
    {
     "data": {
      "text/html": [
       "<table class=\"simpletable\">\n",
       "<caption>ARIMA Model Results</caption>\n",
       "<tr>\n",
       "  <th>Dep. Variable:</th>      <td>D.Preço</td>     <th>  No. Observations:  </th>    <td>5772</td>   \n",
       "</tr>\n",
       "<tr>\n",
       "  <th>Model:</th>          <td>ARIMA(2, 1, 2)</td>  <th>  Log Likelihood     </th> <td>-14454.325</td>\n",
       "</tr>\n",
       "<tr>\n",
       "  <th>Method:</th>             <td>css-mle</td>     <th>  S.D. of innovations</th>    <td>2.960</td>  \n",
       "</tr>\n",
       "<tr>\n",
       "  <th>Date:</th>          <td>Tue, 19 Nov 2019</td> <th>  AIC                </th>  <td>28920.649</td>\n",
       "</tr>\n",
       "<tr>\n",
       "  <th>Time:</th>              <td>14:36:43</td>     <th>  BIC                </th>  <td>28960.614</td>\n",
       "</tr>\n",
       "<tr>\n",
       "  <th>Sample:</th>                <td>1</td>        <th>  HQIC               </th>  <td>28934.555</td>\n",
       "</tr>\n",
       "<tr>\n",
       "  <th></th>                       <td> </td>        <th>                     </th>      <td> </td>    \n",
       "</tr>\n",
       "</table>\n",
       "<table class=\"simpletable\">\n",
       "<tr>\n",
       "        <td></td>           <th>coef</th>     <th>std err</th>      <th>z</th>      <th>P>|z|</th>  <th>[0.025</th>    <th>0.975]</th>  \n",
       "</tr>\n",
       "<tr>\n",
       "  <th>const</th>         <td>   -0.0013</td> <td>    0.038</td> <td>   -0.036</td> <td> 0.971</td> <td>   -0.075</td> <td>    0.072</td>\n",
       "</tr>\n",
       "<tr>\n",
       "  <th>ar.L1.D.Preço</th> <td>   -0.7958</td> <td>    0.093</td> <td>   -8.580</td> <td> 0.000</td> <td>   -0.978</td> <td>   -0.614</td>\n",
       "</tr>\n",
       "<tr>\n",
       "  <th>ar.L2.D.Preço</th> <td>   -0.6270</td> <td>    0.142</td> <td>   -4.421</td> <td> 0.000</td> <td>   -0.905</td> <td>   -0.349</td>\n",
       "</tr>\n",
       "<tr>\n",
       "  <th>ma.L1.D.Preço</th> <td>    0.7773</td> <td>    0.098</td> <td>    7.942</td> <td> 0.000</td> <td>    0.586</td> <td>    0.969</td>\n",
       "</tr>\n",
       "<tr>\n",
       "  <th>ma.L2.D.Preço</th> <td>    0.5549</td> <td>    0.152</td> <td>    3.655</td> <td> 0.000</td> <td>    0.257</td> <td>    0.853</td>\n",
       "</tr>\n",
       "</table>\n",
       "<table class=\"simpletable\">\n",
       "<caption>Roots</caption>\n",
       "<tr>\n",
       "    <td></td>   <th>            Real</th>  <th>         Imaginary</th> <th>         Modulus</th>  <th>        Frequency</th>\n",
       "</tr>\n",
       "<tr>\n",
       "  <th>AR.1</th> <td>          -0.6346</td> <td>          -1.0919j</td> <td>           1.2629</td> <td>          -0.3338</td>\n",
       "</tr>\n",
       "<tr>\n",
       "  <th>AR.2</th> <td>          -0.6346</td> <td>          +1.0919j</td> <td>           1.2629</td> <td>           0.3338</td>\n",
       "</tr>\n",
       "<tr>\n",
       "  <th>MA.1</th> <td>          -0.7004</td> <td>          -1.1452j</td> <td>           1.3424</td> <td>          -0.3374</td>\n",
       "</tr>\n",
       "<tr>\n",
       "  <th>MA.2</th> <td>          -0.7004</td> <td>          +1.1452j</td> <td>           1.3424</td> <td>           0.3374</td>\n",
       "</tr>\n",
       "</table>"
      ],
      "text/plain": [
       "<class 'statsmodels.iolib.summary.Summary'>\n",
       "\"\"\"\n",
       "                             ARIMA Model Results                              \n",
       "==============================================================================\n",
       "Dep. Variable:                D.Preço   No. Observations:                 5772\n",
       "Model:                 ARIMA(2, 1, 2)   Log Likelihood              -14454.325\n",
       "Method:                       css-mle   S.D. of innovations              2.960\n",
       "Date:                Tue, 19 Nov 2019   AIC                          28920.649\n",
       "Time:                        14:36:43   BIC                          28960.614\n",
       "Sample:                             1   HQIC                         28934.555\n",
       "                                                                              \n",
       "=================================================================================\n",
       "                    coef    std err          z      P>|z|      [0.025      0.975]\n",
       "---------------------------------------------------------------------------------\n",
       "const            -0.0013      0.038     -0.036      0.971      -0.075       0.072\n",
       "ar.L1.D.Preço    -0.7958      0.093     -8.580      0.000      -0.978      -0.614\n",
       "ar.L2.D.Preço    -0.6270      0.142     -4.421      0.000      -0.905      -0.349\n",
       "ma.L1.D.Preço     0.7773      0.098      7.942      0.000       0.586       0.969\n",
       "ma.L2.D.Preço     0.5549      0.152      3.655      0.000       0.257       0.853\n",
       "                                    Roots                                    \n",
       "=============================================================================\n",
       "                  Real          Imaginary           Modulus         Frequency\n",
       "-----------------------------------------------------------------------------\n",
       "AR.1           -0.6346           -1.0919j            1.2629           -0.3338\n",
       "AR.2           -0.6346           +1.0919j            1.2629            0.3338\n",
       "MA.1           -0.7004           -1.1452j            1.3424           -0.3374\n",
       "MA.2           -0.7004           +1.1452j            1.3424            0.3374\n",
       "-----------------------------------------------------------------------------\n",
       "\"\"\""
      ]
     },
     "execution_count": 26,
     "metadata": {},
     "output_type": "execute_result"
    }
   ],
   "source": [
    "modelo = ARIMA(ts, order=(2, 1, 2))\n",
    "modelo_treinado = modelo.fit()\n",
    "modelo_treinado.summary()"
   ]
  },
  {
   "cell_type": "code",
   "execution_count": 27,
   "metadata": {},
   "outputs": [],
   "source": [
    "previsoes = modelo_treinado.forecast(steps = 7)"
   ]
  },
  {
   "cell_type": "code",
   "execution_count": 28,
   "metadata": {},
   "outputs": [
    {
     "data": {
      "text/plain": [
       "(array([113.33752716, 113.26324662, 113.24541392, 113.30292802,\n",
       "        113.26508778, 113.25588566, 113.28368278]),\n",
       " array([2.96024889, 4.14798318, 4.9688603 , 5.75582906, 6.43473621,\n",
       "        7.01478574, 7.58203386]),\n",
       " array([[107.53554596, 119.13950836],\n",
       "        [105.13334898, 121.39314427],\n",
       "        [103.50662669, 122.98420115],\n",
       "        [102.02171037, 124.58414568],\n",
       "        [100.65323655, 125.876939  ],\n",
       "        [ 99.50715826, 127.00461307],\n",
       "        [ 98.42316949, 128.14419607]]))"
      ]
     },
     "execution_count": 28,
     "metadata": {},
     "output_type": "execute_result"
    }
   ],
   "source": [
    "previsoes"
   ]
  },
  {
   "cell_type": "code",
   "execution_count": 29,
   "metadata": {},
   "outputs": [
    {
     "name": "stdout",
     "output_type": "stream",
     "text": [
      "[113.33752716 113.26324662 113.24541392 113.30292802 113.26508778\n",
      " 113.25588566 113.28368278]\n"
     ]
    }
   ],
   "source": [
    "previsoes = modelo_treinado.forecast(steps = 7)[0]\n",
    "print(previsoes)"
   ]
  },
  {
   "cell_type": "code",
   "execution_count": 30,
   "metadata": {},
   "outputs": [],
   "source": [
    "#ERROR\n",
    "#eixo = ts.plot()\n",
    "#modelo_treinado.plot_predict(start='5760', end='5780', ax = eixo, plot_insample=True)\n",
    "#o código apresenta erro devido a série possuir datas ausentes - SAB e DOM\n",
    "#assim ela não consegue prever o dia de amanhã, uma vez que este pode não existir!"
   ]
  },
  {
   "cell_type": "code",
   "execution_count": 31,
   "metadata": {},
   "outputs": [],
   "source": [
    "#ERROR\n",
    "#train1_reindex = train1.reindex (pd.DatetimeIndex ( start = train1.date [ 0 ], final = train1.date [ - 1 ], freq = ' D ' ))"
   ]
  },
  {
   "cell_type": "code",
   "execution_count": 32,
   "metadata": {},
   "outputs": [
    {
     "data": {
      "text/plain": [
       "[<matplotlib.lines.Line2D at 0x21dc24c1390>]"
      ]
     },
     "execution_count": 32,
     "metadata": {},
     "output_type": "execute_result"
    },
    {
     "data": {
      "image/png": "[encoded data removed]",
      "text/plain": [
       "<Figure size 432x288 with 1 Axes>"
      ]
     },
     "metadata": {
      "needs_background": "light"
     },
     "output_type": "display_data"
    }
   ],
   "source": [
    "plt.plot(previsoes)"
   ]
  },
  {
   "cell_type": "code",
   "execution_count": 33,
   "metadata": {},
   "outputs": [],
   "source": [
    "#VOU TENTAR FAZER UM RESAMPLING DO MEU CONJUNTO 'ts' TRANSFORMANDO-O EM UMA ´SERIE FIXA DE ACORDO COM PÁGINA 404\n",
    "resampler = ts.resample('D')"
   ]
  },
  {
   "cell_type": "code",
   "execution_count": 34,
   "metadata": {},
   "outputs": [],
   "source": [
    "#ERROR\n",
    "#resampler.head(5)"
   ]
  },
  {
   "cell_type": "code",
   "execution_count": 35,
   "metadata": {},
   "outputs": [
    {
     "data": {
      "text/plain": [
       "DatetimeIndexResampler [freq=<Day>, axis=0, closed=left, label=left, convention=start, base=0]"
      ]
     },
     "execution_count": 35,
     "metadata": {},
     "output_type": "execute_result"
    }
   ],
   "source": [
    "resampler"
   ]
  },
  {
   "cell_type": "code",
   "execution_count": 36,
   "metadata": {},
   "outputs": [],
   "source": [
    "#ERROR\n",
    "#ex = resampler.plot()"
   ]
  },
  {
   "cell_type": "markdown",
   "metadata": {},
   "source": [
    "### MODIFICAÇÕES DE ACORDO COM RECOMENDAÇÕES ARTIGO UDEMY"
   ]
  },
  {
   "cell_type": "code",
   "execution_count": 38,
   "metadata": {},
   "outputs": [
    {
     "data": {
      "text/plain": [
       "<matplotlib.axes._subplots.AxesSubplot at 0x21dcf4b6048>"
      ]
     },
     "execution_count": 38,
     "metadata": {},
     "output_type": "execute_result"
    },
    {
     "data": {
      "image/png": "[encoded data removed]",
      "text/plain": [
       "<Figure size 432x288 with 1 Axes>"
      ]
     },
     "metadata": {
      "needs_background": "light"
     },
     "output_type": "display_data"
    }
   ],
   "source": [
    "ts.hist()"
   ]
  },
  {
   "cell_type": "markdown",
   "metadata": {},
   "source": [
    "TESTE DE RAIZ UNITÁRIA - DICKEY FULLER\n",
    "* Valor p> 0,05 : falha ao rejeitar a hipótese nula (H0), os dados têm uma raiz unitária e não são estacionários.\n",
    "* Valor de p <= 0,05 : Rejeita a hipótese nula (H0), os dados não possuem uma raiz unitária e são estacionários."
   ]
  },
  {
   "cell_type": "code",
   "execution_count": 41,
   "metadata": {},
   "outputs": [],
   "source": [
    "from statsmodels.tsa.stattools import adfuller"
   ]
  },
  {
   "cell_type": "code",
   "execution_count": 42,
   "metadata": {},
   "outputs": [],
   "source": [
    "result = adfuller(ts)"
   ]
  },
  {
   "cell_type": "code",
   "execution_count": 43,
   "metadata": {},
   "outputs": [
    {
     "name": "stdout",
     "output_type": "stream",
     "text": [
      "ADF Statistic: -1.905535\n",
      "p-value: 0.329462\n",
      "Critical Values:\n",
      "\t1%: -3.431\n",
      "\t5%: -2.862\n",
      "\t10%: -2.567\n"
     ]
    }
   ],
   "source": [
    "print('ADF Statistic: %f' % result[0])\n",
    "print('p-value: %f' % result[1])\n",
    "print('Critical Values:')\n",
    "for key, value in result[4].items():\n",
    "\tprint('\\t%s: %.3f' % (key, value))"
   ]
  },
  {
   "cell_type": "markdown",
   "metadata": {},
   "source": [
    "#### Criar um conjunto de treino e outro de teste para rodar os modelos"
   ]
  },
  {
   "cell_type": "code",
   "execution_count": 45,
   "metadata": {},
   "outputs": [],
   "source": [
    "#divide o conjunto de dados\n",
    "train = ts[:int(0.7*(len(ts)))]\n",
    "valid = ts[int(0.7*(len(ts))):]"
   ]
  },
  {
   "cell_type": "code",
   "execution_count": 48,
   "metadata": {},
   "outputs": [
    {
     "data": {
      "text/plain": [
       "<matplotlib.axes._subplots.AxesSubplot at 0x21dd797f240>"
      ]
     },
     "execution_count": 48,
     "metadata": {},
     "output_type": "execute_result"
    },
    {
     "data": {
      "image/png": "[encoded data removed]",
      "text/plain": [
       "<Figure size 432x288 with 1 Axes>"
      ]
     },
     "metadata": {
      "needs_background": "light"
     },
     "output_type": "display_data"
    }
   ],
   "source": [
    "#plotar os conjuntos de dados\n",
    "train.plot() #vai de 1996 até 2012\n",
    "valid.plot() #vai de 2013 até 2019"
   ]
  },
  {
   "cell_type": "code",
   "execution_count": 49,
   "metadata": {},
   "outputs": [
    {
     "data": {
      "text/plain": [
       "<matplotlib.axes._subplots.AxesSubplot at 0x21dd58ac4e0>"
      ]
     },
     "execution_count": 49,
     "metadata": {},
     "output_type": "execute_result"
    },
    {
     "data": {
      "image/png": "[encoded data removed]",
      "text/plain": [
       "<Figure size 432x288 with 1 Axes>"
      ]
     },
     "metadata": {
      "needs_background": "light"
     },
     "output_type": "display_data"
    }
   ],
   "source": [
    "train.plot()"
   ]
  },
  {
   "cell_type": "code",
   "execution_count": 51,
   "metadata": {},
   "outputs": [
    {
     "data": {
      "text/plain": [
       "<matplotlib.axes._subplots.AxesSubplot at 0x21dcf73c668>"
      ]
     },
     "execution_count": 51,
     "metadata": {},
     "output_type": "execute_result"
    },
    {
     "data": {
      "image/png": "[encoded data removed]",
      "text/plain": [
       "<Figure size 432x288 with 1 Axes>"
      ]
     },
     "metadata": {
      "needs_background": "light"
     },
     "output_type": "display_data"
    }
   ],
   "source": [
    "valid.plot()"
   ]
  },
  {
   "cell_type": "markdown",
   "metadata": {},
   "source": [
    "Construindo o modelo novo"
   ]
  },
  {
   "cell_type": "code",
   "execution_count": 65,
   "metadata": {},
   "outputs": [
    {
     "name": "stdout",
     "output_type": "stream",
     "text": [
      "Fit ARIMA: order=(2, 1, 2) seasonal_order=(0, 0, 0, 1); AIC=20537.253, BIC=20575.077, Fit time=1.278 seconds\n",
      "Fit ARIMA: order=(0, 1, 0) seasonal_order=(0, 0, 0, 1); AIC=20571.336, BIC=20583.944, Fit time=0.059 seconds\n",
      "Fit ARIMA: order=(1, 1, 0) seasonal_order=(0, 0, 0, 1); AIC=20567.690, BIC=20586.602, Fit time=0.223 seconds\n",
      "Fit ARIMA: order=(0, 1, 1) seasonal_order=(0, 0, 0, 1); AIC=20566.651, BIC=20585.563, Fit time=0.284 seconds\n",
      "Fit ARIMA: order=(1, 1, 2) seasonal_order=(0, 0, 0, 1); AIC=20541.695, BIC=20573.215, Fit time=0.725 seconds\n",
      "Fit ARIMA: order=(3, 1, 2) seasonal_order=(0, 0, 0, 1); AIC=20537.801, BIC=20581.929, Fit time=3.030 seconds\n",
      "Fit ARIMA: order=(2, 1, 1) seasonal_order=(0, 0, 0, 1); AIC=20539.439, BIC=20570.959, Fit time=1.339 seconds\n",
      "Fit ARIMA: order=(2, 1, 3) seasonal_order=(0, 0, 0, 1); AIC=20537.535, BIC=20581.663, Fit time=2.407 seconds\n",
      "Fit ARIMA: order=(1, 1, 1) seasonal_order=(0, 0, 0, 1); AIC=20561.725, BIC=20586.941, Fit time=0.659 seconds\n",
      "Fit ARIMA: order=(3, 1, 3) seasonal_order=(0, 0, 0, 1); AIC=20537.936, BIC=20588.368, Fit time=4.768 seconds\n",
      "Total fit time: 14.781 seconds\n"
     ]
    },
    {
     "data": {
      "image/png": "[encoded data removed]",
      "text/plain": [
       "<Figure size 432x288 with 1 Axes>"
      ]
     },
     "metadata": {
      "needs_background": "light"
     },
     "output_type": "display_data"
    }
   ],
   "source": [
    "#Construindo o novo modelo\n",
    "model = auto_arima(train, trace=True, error_action='ignore', suppress_warnings=True)\n",
    "model.fit(train)\n",
    "\n",
    "forecast = model.predict(n_periods=len(valid + 7))\n",
    "forecast = pd.DataFrame(forecast,index = valid.index,columns=['Prediction'])\n",
    "\n",
    "#plot the predictions for validation set\n",
    "plt.plot(train, label='Train')\n",
    "plt.plot(valid, label='Valid')\n",
    "plt.plot(forecast, label='Prediction')\n",
    "plt.show()"
   ]
  },
  {
   "cell_type": "code",
   "execution_count": 66,
   "metadata": {},
   "outputs": [
    {
     "name": "stdout",
     "output_type": "stream",
     "text": [
      "48.359125126094625\n"
     ]
    }
   ],
   "source": [
    "#calculate rmse\n",
    "from math import sqrt\n",
    "from sklearn.metrics import mean_squared_error\n",
    "\n",
    "rms = sqrt(mean_squared_error(valid,forecast))\n",
    "print(rms)"
   ]
  },
  {
   "cell_type": "code",
   "execution_count": 67,
   "metadata": {},
   "outputs": [
    {
     "data": {
      "text/html": [
       "<div>\n",
       "<style scoped>\n",
       "    .dataframe tbody tr th:only-of-type {\n",
       "        vertical-align: middle;\n",
       "    }\n",
       "\n",
       "    .dataframe tbody tr th {\n",
       "        vertical-align: top;\n",
       "    }\n",
       "\n",
       "    .dataframe thead th {\n",
       "        text-align: right;\n",
       "    }\n",
       "</style>\n",
       "<table border=\"1\" class=\"dataframe\">\n",
       "  <thead>\n",
       "    <tr style=\"text-align: right;\">\n",
       "      <th></th>\n",
       "      <th>Prediction</th>\n",
       "    </tr>\n",
       "    <tr>\n",
       "      <th>Data</th>\n",
       "      <th></th>\n",
       "    </tr>\n",
       "  </thead>\n",
       "  <tbody>\n",
       "    <tr>\n",
       "      <th>2012-11-30</th>\n",
       "      <td>167.362301</td>\n",
       "    </tr>\n",
       "    <tr>\n",
       "      <th>2012-12-03</th>\n",
       "      <td>167.482784</td>\n",
       "    </tr>\n",
       "    <tr>\n",
       "      <th>2012-12-04</th>\n",
       "      <td>167.409208</td>\n",
       "    </tr>\n",
       "    <tr>\n",
       "      <th>2012-12-05</th>\n",
       "      <td>167.420473</td>\n",
       "    </tr>\n",
       "    <tr>\n",
       "      <th>2012-12-06</th>\n",
       "      <td>167.470715</td>\n",
       "    </tr>\n",
       "    <tr>\n",
       "      <th>2012-12-07</th>\n",
       "      <td>167.458282</td>\n",
       "    </tr>\n",
       "    <tr>\n",
       "      <th>2012-12-10</th>\n",
       "      <td>167.465397</td>\n",
       "    </tr>\n",
       "    <tr>\n",
       "      <th>2012-12-11</th>\n",
       "      <td>167.489811</td>\n",
       "    </tr>\n",
       "    <tr>\n",
       "      <th>2012-12-12</th>\n",
       "      <td>167.494794</td>\n",
       "    </tr>\n",
       "    <tr>\n",
       "      <th>2012-12-13</th>\n",
       "      <td>167.503423</td>\n",
       "    </tr>\n",
       "    <tr>\n",
       "      <th>2012-12-14</th>\n",
       "      <td>167.518864</td>\n",
       "    </tr>\n",
       "    <tr>\n",
       "      <th>2012-12-17</th>\n",
       "      <td>167.528529</td>\n",
       "    </tr>\n",
       "    <tr>\n",
       "      <th>2012-12-18</th>\n",
       "      <td>167.538505</td>\n",
       "    </tr>\n",
       "    <tr>\n",
       "      <th>2012-12-19</th>\n",
       "      <td>167.550969</td>\n",
       "    </tr>\n",
       "    <tr>\n",
       "      <th>2012-12-20</th>\n",
       "      <td>167.561796</td>\n",
       "    </tr>\n",
       "    <tr>\n",
       "      <th>2012-12-21</th>\n",
       "      <td>167.572453</td>\n",
       "    </tr>\n",
       "    <tr>\n",
       "      <th>2012-12-26</th>\n",
       "      <td>167.583970</td>\n",
       "    </tr>\n",
       "    <tr>\n",
       "      <th>2012-12-27</th>\n",
       "      <td>167.595050</td>\n",
       "    </tr>\n",
       "    <tr>\n",
       "      <th>2012-12-28</th>\n",
       "      <td>167.605994</td>\n",
       "    </tr>\n",
       "    <tr>\n",
       "      <th>2013-01-02</th>\n",
       "      <td>167.617222</td>\n",
       "    </tr>\n",
       "    <tr>\n",
       "      <th>2013-01-03</th>\n",
       "      <td>167.628343</td>\n",
       "    </tr>\n",
       "    <tr>\n",
       "      <th>2013-01-04</th>\n",
       "      <td>167.639396</td>\n",
       "    </tr>\n",
       "    <tr>\n",
       "      <th>2013-01-07</th>\n",
       "      <td>167.650540</td>\n",
       "    </tr>\n",
       "    <tr>\n",
       "      <th>2013-01-08</th>\n",
       "      <td>167.661660</td>\n",
       "    </tr>\n",
       "    <tr>\n",
       "      <th>2013-01-09</th>\n",
       "      <td>167.672753</td>\n",
       "    </tr>\n",
       "    <tr>\n",
       "      <th>2013-01-10</th>\n",
       "      <td>167.683873</td>\n",
       "    </tr>\n",
       "    <tr>\n",
       "      <th>2013-01-11</th>\n",
       "      <td>167.694989</td>\n",
       "    </tr>\n",
       "    <tr>\n",
       "      <th>2013-01-14</th>\n",
       "      <td>167.706095</td>\n",
       "    </tr>\n",
       "    <tr>\n",
       "      <th>2013-01-15</th>\n",
       "      <td>167.717209</td>\n",
       "    </tr>\n",
       "    <tr>\n",
       "      <th>2013-01-16</th>\n",
       "      <td>167.728323</td>\n",
       "    </tr>\n",
       "    <tr>\n",
       "      <th>...</th>\n",
       "      <td>...</td>\n",
       "    </tr>\n",
       "    <tr>\n",
       "      <th>2019-09-27</th>\n",
       "      <td>186.318987</td>\n",
       "    </tr>\n",
       "    <tr>\n",
       "      <th>2019-09-30</th>\n",
       "      <td>186.330100</td>\n",
       "    </tr>\n",
       "    <tr>\n",
       "      <th>2019-10-01</th>\n",
       "      <td>186.341212</td>\n",
       "    </tr>\n",
       "    <tr>\n",
       "      <th>2019-10-02</th>\n",
       "      <td>186.352324</td>\n",
       "    </tr>\n",
       "    <tr>\n",
       "      <th>2019-10-03</th>\n",
       "      <td>186.363436</td>\n",
       "    </tr>\n",
       "    <tr>\n",
       "      <th>2019-10-04</th>\n",
       "      <td>186.374548</td>\n",
       "    </tr>\n",
       "    <tr>\n",
       "      <th>2019-10-07</th>\n",
       "      <td>186.385661</td>\n",
       "    </tr>\n",
       "    <tr>\n",
       "      <th>2019-10-08</th>\n",
       "      <td>186.396773</td>\n",
       "    </tr>\n",
       "    <tr>\n",
       "      <th>2019-10-09</th>\n",
       "      <td>186.407885</td>\n",
       "    </tr>\n",
       "    <tr>\n",
       "      <th>2019-10-10</th>\n",
       "      <td>186.418997</td>\n",
       "    </tr>\n",
       "    <tr>\n",
       "      <th>2019-10-11</th>\n",
       "      <td>186.430109</td>\n",
       "    </tr>\n",
       "    <tr>\n",
       "      <th>2019-10-14</th>\n",
       "      <td>186.441221</td>\n",
       "    </tr>\n",
       "    <tr>\n",
       "      <th>2019-10-15</th>\n",
       "      <td>186.452334</td>\n",
       "    </tr>\n",
       "    <tr>\n",
       "      <th>2019-10-16</th>\n",
       "      <td>186.463446</td>\n",
       "    </tr>\n",
       "    <tr>\n",
       "      <th>2019-10-17</th>\n",
       "      <td>186.474558</td>\n",
       "    </tr>\n",
       "    <tr>\n",
       "      <th>2019-10-18</th>\n",
       "      <td>186.485670</td>\n",
       "    </tr>\n",
       "    <tr>\n",
       "      <th>2019-10-21</th>\n",
       "      <td>186.496782</td>\n",
       "    </tr>\n",
       "    <tr>\n",
       "      <th>2019-10-22</th>\n",
       "      <td>186.507894</td>\n",
       "    </tr>\n",
       "    <tr>\n",
       "      <th>2019-10-23</th>\n",
       "      <td>186.519007</td>\n",
       "    </tr>\n",
       "    <tr>\n",
       "      <th>2019-10-24</th>\n",
       "      <td>186.530119</td>\n",
       "    </tr>\n",
       "    <tr>\n",
       "      <th>2019-10-25</th>\n",
       "      <td>186.541231</td>\n",
       "    </tr>\n",
       "    <tr>\n",
       "      <th>2019-10-28</th>\n",
       "      <td>186.552343</td>\n",
       "    </tr>\n",
       "    <tr>\n",
       "      <th>2019-10-29</th>\n",
       "      <td>186.563455</td>\n",
       "    </tr>\n",
       "    <tr>\n",
       "      <th>2019-10-30</th>\n",
       "      <td>186.574567</td>\n",
       "    </tr>\n",
       "    <tr>\n",
       "      <th>2019-10-31</th>\n",
       "      <td>186.585680</td>\n",
       "    </tr>\n",
       "    <tr>\n",
       "      <th>2019-11-01</th>\n",
       "      <td>186.596792</td>\n",
       "    </tr>\n",
       "    <tr>\n",
       "      <th>2019-11-04</th>\n",
       "      <td>186.607904</td>\n",
       "    </tr>\n",
       "    <tr>\n",
       "      <th>2019-11-05</th>\n",
       "      <td>186.619016</td>\n",
       "    </tr>\n",
       "    <tr>\n",
       "      <th>2019-11-06</th>\n",
       "      <td>186.630128</td>\n",
       "    </tr>\n",
       "    <tr>\n",
       "      <th>2019-11-07</th>\n",
       "      <td>186.641241</td>\n",
       "    </tr>\n",
       "  </tbody>\n",
       "</table>\n",
       "<p>1732 rows × 1 columns</p>\n",
       "</div>"
      ],
      "text/plain": [
       "            Prediction\n",
       "Data                  \n",
       "2012-11-30  167.362301\n",
       "2012-12-03  167.482784\n",
       "2012-12-04  167.409208\n",
       "2012-12-05  167.420473\n",
       "2012-12-06  167.470715\n",
       "2012-12-07  167.458282\n",
       "2012-12-10  167.465397\n",
       "2012-12-11  167.489811\n",
       "2012-12-12  167.494794\n",
       "2012-12-13  167.503423\n",
       "2012-12-14  167.518864\n",
       "2012-12-17  167.528529\n",
       "2012-12-18  167.538505\n",
       "2012-12-19  167.550969\n",
       "2012-12-20  167.561796\n",
       "2012-12-21  167.572453\n",
       "2012-12-26  167.583970\n",
       "2012-12-27  167.595050\n",
       "2012-12-28  167.605994\n",
       "2013-01-02  167.617222\n",
       "2013-01-03  167.628343\n",
       "2013-01-04  167.639396\n",
       "2013-01-07  167.650540\n",
       "2013-01-08  167.661660\n",
       "2013-01-09  167.672753\n",
       "2013-01-10  167.683873\n",
       "2013-01-11  167.694989\n",
       "2013-01-14  167.706095\n",
       "2013-01-15  167.717209\n",
       "2013-01-16  167.728323\n",
       "...                ...\n",
       "2019-09-27  186.318987\n",
       "2019-09-30  186.330100\n",
       "2019-10-01  186.341212\n",
       "2019-10-02  186.352324\n",
       "2019-10-03  186.363436\n",
       "2019-10-04  186.374548\n",
       "2019-10-07  186.385661\n",
       "2019-10-08  186.396773\n",
       "2019-10-09  186.407885\n",
       "2019-10-10  186.418997\n",
       "2019-10-11  186.430109\n",
       "2019-10-14  186.441221\n",
       "2019-10-15  186.452334\n",
       "2019-10-16  186.463446\n",
       "2019-10-17  186.474558\n",
       "2019-10-18  186.485670\n",
       "2019-10-21  186.496782\n",
       "2019-10-22  186.507894\n",
       "2019-10-23  186.519007\n",
       "2019-10-24  186.530119\n",
       "2019-10-25  186.541231\n",
       "2019-10-28  186.552343\n",
       "2019-10-29  186.563455\n",
       "2019-10-30  186.574567\n",
       "2019-10-31  186.585680\n",
       "2019-11-01  186.596792\n",
       "2019-11-04  186.607904\n",
       "2019-11-05  186.619016\n",
       "2019-11-06  186.630128\n",
       "2019-11-07  186.641241\n",
       "\n",
       "[1732 rows x 1 columns]"
      ]
     },
     "execution_count": 67,
     "metadata": {},
     "output_type": "execute_result"
    }
   ],
   "source": [
    "forecast"
   ]
  },
  {
   "cell_type": "code",
   "execution_count": 68,
   "metadata": {},
   "outputs": [
    {
     "data": {
      "text/plain": [
       "count    4041.000000\n",
       "mean      128.949349\n",
       "std        66.136399\n",
       "min        30.920000\n",
       "25%        75.950000\n",
       "50%       117.660000\n",
       "75%       159.760000\n",
       "max       349.390000\n",
       "Name: Preço, dtype: float64"
      ]
     },
     "execution_count": 68,
     "metadata": {},
     "output_type": "execute_result"
    }
   ],
   "source": [
    "train.describe()"
   ]
  },
  {
   "cell_type": "code",
   "execution_count": 69,
   "metadata": {},
   "outputs": [
    {
     "data": {
      "text/plain": [
       "count    1732.000000\n",
       "mean      138.656819\n",
       "std        26.066929\n",
       "min        93.380000\n",
       "25%       119.422500\n",
       "50%       135.650000\n",
       "75%       154.017500\n",
       "max       222.650000\n",
       "Name: Preço, dtype: float64"
      ]
     },
     "execution_count": 69,
     "metadata": {},
     "output_type": "execute_result"
    }
   ],
   "source": [
    "valid.describe()"
   ]
  },
  {
   "cell_type": "code",
   "execution_count": 70,
   "metadata": {},
   "outputs": [],
   "source": [
    "#ACF and PACF plots:\n",
    "from statsmodels.tsa.stattools import acf, pacf"
   ]
  },
  {
   "cell_type": "code",
   "execution_count": 71,
   "metadata": {},
   "outputs": [
    {
     "name": "stderr",
     "output_type": "stream",
     "text": [
      "C:\\Users\\mauro\\AppData\\Local\\Continuum\\anaconda3\\lib\\site-packages\\statsmodels\\tsa\\stattools.py:541: FutureWarning: fft=True will become the default in a future version of statsmodels. To suppress this warning, explicitly set fft=False.\n",
      "  warnings.warn(msg, FutureWarning)\n"
     ]
    }
   ],
   "source": [
    "lag_acf = acf(ts, nlags=20)\n",
    "lag_pacf = pacf(ts, nlags=20, method='ols')"
   ]
  },
  {
   "cell_type": "code",
   "execution_count": 72,
   "metadata": {},
   "outputs": [
    {
     "data": {
      "text/plain": [
       "Text(0.5, 1.0, 'Autocorrelation Function')"
      ]
     },
     "execution_count": 72,
     "metadata": {},
     "output_type": "execute_result"
    },
    {
     "data": {
      "image/png": "[encoded data removed]",
      "text/plain": [
       "<Figure size 432x288 with 1 Axes>"
      ]
     },
     "metadata": {
      "needs_background": "light"
     },
     "output_type": "display_data"
    }
   ],
   "source": [
    "#Plot ACF: \n",
    "plt.subplot(121) \n",
    "plt.plot(lag_acf)\n",
    "plt.axhline(y=0,linestyle='--',color='gray')\n",
    "plt.axhline(y=-1.96/np.sqrt(len(ts)),linestyle='--',color='gray')\n",
    "plt.title('Autocorrelation Function')"
   ]
  },
  {
   "cell_type": "code",
   "execution_count": 74,
   "metadata": {},
   "outputs": [
    {
     "data": {
      "text/html": [
       "<table class=\"simpletable\">\n",
       "<caption>Statespace Model Results</caption>\n",
       "<tr>\n",
       "  <th>Dep. Variable:</th>           <td>y</td>        <th>  No. Observations:  </th>    <td>4041</td>   \n",
       "</tr>\n",
       "<tr>\n",
       "  <th>Model:</th>           <td>SARIMAX(2, 1, 2)</td> <th>  Log Likelihood     </th> <td>-10262.626</td>\n",
       "</tr>\n",
       "<tr>\n",
       "  <th>Date:</th>            <td>Tue, 19 Nov 2019</td> <th>  AIC                </th>  <td>20537.253</td>\n",
       "</tr>\n",
       "<tr>\n",
       "  <th>Time:</th>                <td>15:52:36</td>     <th>  BIC                </th>  <td>20575.077</td>\n",
       "</tr>\n",
       "<tr>\n",
       "  <th>Sample:</th>                  <td>0</td>        <th>  HQIC               </th>  <td>20550.653</td>\n",
       "</tr>\n",
       "<tr>\n",
       "  <th></th>                      <td> - 4041</td>     <th>                     </th>      <td> </td>    \n",
       "</tr>\n",
       "<tr>\n",
       "  <th>Covariance Type:</th>        <td>opg</td>       <th>                     </th>      <td> </td>    \n",
       "</tr>\n",
       "</table>\n",
       "<table class=\"simpletable\">\n",
       "<tr>\n",
       "      <td></td>         <th>coef</th>     <th>std err</th>      <th>z</th>      <th>P>|z|</th>  <th>[0.025</th>    <th>0.975]</th>  \n",
       "</tr>\n",
       "<tr>\n",
       "  <th>intercept</th> <td>    0.0229</td> <td>    0.095</td> <td>    0.242</td> <td> 0.808</td> <td>   -0.162</td> <td>    0.208</td>\n",
       "</tr>\n",
       "<tr>\n",
       "  <th>ar.L1</th>     <td>   -0.5999</td> <td>    0.078</td> <td>   -7.648</td> <td> 0.000</td> <td>   -0.754</td> <td>   -0.446</td>\n",
       "</tr>\n",
       "<tr>\n",
       "  <th>ar.L2</th>     <td>   -0.4631</td> <td>    0.078</td> <td>   -5.908</td> <td> 0.000</td> <td>   -0.617</td> <td>   -0.309</td>\n",
       "</tr>\n",
       "<tr>\n",
       "  <th>ma.L1</th>     <td>    0.5674</td> <td>    0.083</td> <td>    6.850</td> <td> 0.000</td> <td>    0.405</td> <td>    0.730</td>\n",
       "</tr>\n",
       "<tr>\n",
       "  <th>ma.L2</th>     <td>    0.3726</td> <td>    0.083</td> <td>    4.465</td> <td> 0.000</td> <td>    0.209</td> <td>    0.536</td>\n",
       "</tr>\n",
       "<tr>\n",
       "  <th>sigma2</th>    <td>    9.4172</td> <td>    0.102</td> <td>   92.471</td> <td> 0.000</td> <td>    9.218</td> <td>    9.617</td>\n",
       "</tr>\n",
       "</table>\n",
       "<table class=\"simpletable\">\n",
       "<tr>\n",
       "  <th>Ljung-Box (Q):</th>          <td>47.83</td> <th>  Jarque-Bera (JB):  </th> <td>7920.56</td>\n",
       "</tr>\n",
       "<tr>\n",
       "  <th>Prob(Q):</th>                <td>0.18</td>  <th>  Prob(JB):          </th>  <td>0.00</td>  \n",
       "</tr>\n",
       "<tr>\n",
       "  <th>Heteroskedasticity (H):</th> <td>1.13</td>  <th>  Skew:              </th>  <td>-0.31</td> \n",
       "</tr>\n",
       "<tr>\n",
       "  <th>Prob(H) (two-sided):</th>    <td>0.03</td>  <th>  Kurtosis:          </th>  <td>9.83</td>  \n",
       "</tr>\n",
       "</table><br/><br/>Warnings:<br/>[1] Covariance matrix calculated using the outer product of gradients (complex-step)."
      ],
      "text/plain": [
       "<class 'statsmodels.iolib.summary.Summary'>\n",
       "\"\"\"\n",
       "                           Statespace Model Results                           \n",
       "==============================================================================\n",
       "Dep. Variable:                      y   No. Observations:                 4041\n",
       "Model:               SARIMAX(2, 1, 2)   Log Likelihood              -10262.626\n",
       "Date:                Tue, 19 Nov 2019   AIC                          20537.253\n",
       "Time:                        15:52:36   BIC                          20575.077\n",
       "Sample:                             0   HQIC                         20550.653\n",
       "                               - 4041                                         \n",
       "Covariance Type:                  opg                                         \n",
       "==============================================================================\n",
       "                 coef    std err          z      P>|z|      [0.025      0.975]\n",
       "------------------------------------------------------------------------------\n",
       "intercept      0.0229      0.095      0.242      0.808      -0.162       0.208\n",
       "ar.L1         -0.5999      0.078     -7.648      0.000      -0.754      -0.446\n",
       "ar.L2         -0.4631      0.078     -5.908      0.000      -0.617      -0.309\n",
       "ma.L1          0.5674      0.083      6.850      0.000       0.405       0.730\n",
       "ma.L2          0.3726      0.083      4.465      0.000       0.209       0.536\n",
       "sigma2         9.4172      0.102     92.471      0.000       9.218       9.617\n",
       "===================================================================================\n",
       "Ljung-Box (Q):                       47.83   Jarque-Bera (JB):              7920.56\n",
       "Prob(Q):                              0.18   Prob(JB):                         0.00\n",
       "Heteroskedasticity (H):               1.13   Skew:                            -0.31\n",
       "Prob(H) (two-sided):                  0.03   Kurtosis:                         9.83\n",
       "===================================================================================\n",
       "\n",
       "Warnings:\n",
       "[1] Covariance matrix calculated using the outer product of gradients (complex-step).\n",
       "\"\"\""
      ]
     },
     "execution_count": 74,
     "metadata": {},
     "output_type": "execute_result"
    }
   ],
   "source": [
    "model.summary()"
   ]
  },
  {
   "cell_type": "markdown",
   "metadata": {},
   "source": [
    "OBSERVAÇÕES ACERCA DO MODELO CONSTRUÍDO\n",
    "* O erro RMSE está muito alto, \n",
    "* Comparando o modelo "
   ]
  },
  {
   "cell_type": "code",
   "execution_count": null,
   "metadata": {},
   "outputs": [],
   "source": []
  },
  {
   "cell_type": "raw",
   "metadata": {},
   "source": []
  }
 ],
 "metadata": {
  "kernelspec": {
   "display_name": "Python 3",
   "language": "python",
   "name": "python3"
  },
  "language_info": {
   "codemirror_mode": {
    "name": "ipython",
    "version": 3
   },
   "file_extension": ".py",
   "mimetype": "text/x-python",
   "name": "python",
   "nbconvert_exporter": "python",
   "pygments_lexer": "ipython3",
   "version": "3.7.3"
  }
 },
 "nbformat": 4,
 "nbformat_minor": 2
}
